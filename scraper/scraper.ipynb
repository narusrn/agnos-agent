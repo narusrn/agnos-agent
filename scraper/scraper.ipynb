{
 "cells": [
  {
   "cell_type": "code",
   "execution_count": 15,
   "metadata": {},
   "outputs": [],
   "source": [
    "import requests\n",
    "import pandas as pd\n",
    "from bs4 import BeautifulSoup\n",
    "from urllib.parse import urljoin\n",
    "from concurrent.futures import ThreadPoolExecutor, as_completed\n",
    "from tqdm import tqdm"
   ]
  },
  {
   "cell_type": "markdown",
   "metadata": {},
   "source": [
    "Scrape all forum links concurrently from search pages (184 pages)"
   ]
  },
  {
   "cell_type": "code",
   "execution_count": 4,
   "metadata": {},
   "outputs": [
    {
     "name": "stderr",
     "output_type": "stream",
     "text": [
      "Scraping forum links: 100%|██████████| 184/184 [09:41<00:00,  3.16s/it]"
     ]
    },
    {
     "name": "stdout",
     "output_type": "stream",
     "text": [
      "Total forum links: 1471\n"
     ]
    },
    {
     "name": "stderr",
     "output_type": "stream",
     "text": [
      "\n"
     ]
    }
   ],
   "source": [
    "def get_forum_links(search_page_url, base_url=\"https://www.agnoshealth.com\"):\n",
    "    try:\n",
    "        res = requests.get(search_page_url, timeout=30)\n",
    "        res.raise_for_status()\n",
    "        soup = BeautifulSoup(res.text, \"html.parser\")\n",
    "        links = [urljoin(base_url, a['href']) for a in soup.find_all(\"a\", href=True) if \"/forums/\" in a['href']]\n",
    "        return list(set(links))\n",
    "    except Exception as e:\n",
    "        print(f\"Error: {e} | URL: {search_page_url}\")\n",
    "        return []\n",
    "\n",
    "urls = [f\"https://www.agnoshealth.com/forums/search?page={i}\" for i in range(1, 185)]\n",
    "all_post_links = []\n",
    "\n",
    "# ใช้ ThreadPoolExecutor เพื่อ run พร้อมกันหลาย thread\n",
    "max_workers = 3\n",
    "\n",
    "with ThreadPoolExecutor(max_workers=max_workers) as executor:\n",
    "    # ส่งงานทั้งหมด\n",
    "    future_to_url = {executor.submit(get_forum_links, url): url for url in urls}\n",
    "    \n",
    "    # ใช้ tqdm แสดง progress\n",
    "    for future in tqdm(as_completed(future_to_url), total=len(future_to_url), desc=\"Scraping forum links\"):\n",
    "        links = future.result()\n",
    "        all_post_links.extend(links)\n",
    "\n",
    "# กำจัดซ้ำ\n",
    "all_post_links = list(set([url for url in all_post_links if url != 'https://www.agnoshealth.com/forums/search']))\n",
    "\n",
    "print(f\"Total forum links: {len(all_post_links)}\")\n"
   ]
  },
  {
   "cell_type": "code",
   "execution_count": 5,
   "metadata": {},
   "outputs": [
    {
     "name": "stdout",
     "output_type": "stream",
     "text": [
      "Saved 1471 links to forum_links.txt\n"
     ]
    }
   ],
   "source": [
    "# save all post links into txt file\n",
    "\n",
    "all_post_links = list(set([url for url in all_post_links if url != 'https://www.agnoshealth.com/forums/search']))\n",
    "\n",
    "# บันทึกลงไฟล์ txt\n",
    "with open(\"forum_links.txt\", \"w\", encoding=\"utf-8\") as f:\n",
    "    for link in all_post_links:\n",
    "        f.write(link + \"\\n\")\n",
    "\n",
    "print(f\"Saved {len(all_post_links)} links to forum_links.txt\")"
   ]
  },
  {
   "cell_type": "code",
   "execution_count": 7,
   "metadata": {},
   "outputs": [],
   "source": [
    "def scrape_forum(url):\n",
    "    response = requests.get(url)\n",
    "    soup = BeautifulSoup(response.text, \"html.parser\")\n",
    "\n",
    "    # ดึงกระทู้หลัก\n",
    "    article = soup.find(\"article\")\n",
    "\n",
    "    title_tag = article.find(\"p\", class_=\"font-bold\")\n",
    "    title = title_tag.text.strip() if title_tag else \"\"\n",
    "\n",
    "    info_tag = article.find(\"p\", class_=\"text-sm text-gray-500\")\n",
    "    info = info_tag.text.strip() if info_tag else \"\"\n",
    "\n",
    "    tags = [li.text.strip() for li in article.find_all(\"li\")]\n",
    "\n",
    "    desc_tag = article.find(\"p\", class_=\"text-sm text-gray-500 line-clamp-3\")\n",
    "    description = desc_tag.text.strip() if desc_tag else \"\"\n",
    "\n",
    "    # status / likes\n",
    "    likes_tag = article.find_all(\"p\", class_=\"text-sm text-primary_blue-500\")\n",
    "    likes = likes_tag[0].text.strip() if likes_tag else \"0\"\n",
    "\n",
    "    status_tag = article.find(\"span\", class_=\"text-sm text-primary_blue-500\")\n",
    "    status = status_tag.text.strip() if status_tag else \"\"\n",
    "\n",
    "    # ดึงคำตอบแพทย์ (ถ้ามี)\n",
    "    expert_answer, expert_name, expert_role = \"\", \"\", \"\"\n",
    "    for li_tag in soup.find_all(\"li\"):\n",
    "        if \"shadow-blue_glow_small\" not in li_tag.get(\"class\", []):\n",
    "            continue\n",
    "        role_tag = li_tag.find(\"p\", string=lambda t: \"คำตอบโดยแพทย์\" in t if t else False)\n",
    "        if role_tag:\n",
    "            expert_role = role_tag.text.strip()\n",
    "            name_tag = li_tag.find(\"p\", class_=\"font-bold\")\n",
    "            expert_name = name_tag.text.strip() if name_tag else \"\"\n",
    "            content_tag = li_tag.find(\"p\", class_=\"mt-4\")\n",
    "\n",
    "            expert_answer = content_tag.text.strip() if content_tag else \"\"\n",
    "            break  # เลือกคำตอบแรกของแพทย์\n",
    "\n",
    "    return {\n",
    "        \"link\": url,\n",
    "        \"title\": title,\n",
    "        \"info\": info,\n",
    "        \"tags\": tags,\n",
    "        \"description\": description,\n",
    "        \"likes\": likes,\n",
    "        \"status\": status,\n",
    "        \"expert_role\": expert_role,\n",
    "        \"expert_name\": expert_name,\n",
    "        \"expert_answer\": expert_answer\n",
    "    }"
   ]
  },
  {
   "cell_type": "markdown",
   "metadata": {},
   "source": [
    "scrape data from link forum"
   ]
  },
  {
   "cell_type": "code",
   "execution_count": 13,
   "metadata": {},
   "outputs": [
    {
     "name": "stdout",
     "output_type": "stream",
     "text": [
      "Loaded 1471 links from forum_links.txt\n"
     ]
    },
    {
     "name": "stderr",
     "output_type": "stream",
     "text": [
      "Scraping forums: 100%|██████████| 1471/1471 [06:37<00:00,  3.70it/s]"
     ]
    },
    {
     "name": "stdout",
     "output_type": "stream",
     "text": [
      "Scraped data from 1471 forums\n"
     ]
    },
    {
     "name": "stderr",
     "output_type": "stream",
     "text": [
      "\n"
     ]
    }
   ],
   "source": [
    "# Read links from txt file\n",
    "with open(\"forum_links.txt\", \"r\", encoding=\"utf-8\") as f:\n",
    "    all_post_links = [line.strip() for line in f if line.strip()]\n",
    "\n",
    "print(f\"Loaded {len(all_post_links)} links from forum_links.txt\")\n",
    "\n",
    "all_data = []\n",
    "max_workers = 5  # ปรับตามจำนวน thread ที่ต้องการ\n",
    "\n",
    "with ThreadPoolExecutor(max_workers=max_workers) as executor:\n",
    "    future_to_url = {executor.submit(scrape_forum, url): url for url in all_post_links}\n",
    "    \n",
    "    for future in tqdm(as_completed(future_to_url), total=len(future_to_url), desc=\"Scraping forums\"):\n",
    "        url = future_to_url[future]\n",
    "        try:\n",
    "            data = future.result()\n",
    "            all_data.append(data)\n",
    "        except Exception as e:\n",
    "            print(f\"Error scraping {url}: {e}\")\n",
    "\n",
    "print(f\"Scraped data from {len(all_data)} forums\")\n"
   ]
  },
  {
   "cell_type": "code",
   "execution_count": 16,
   "metadata": {},
   "outputs": [],
   "source": [
    "df = pd.DataFrame(all_data)\n",
    "df.to_excel(\"data.xlsx\")"
   ]
  },
  {
   "cell_type": "code",
   "execution_count": 17,
   "metadata": {},
   "outputs": [
    {
     "data": {
      "application/vnd.microsoft.datawrangler.viewer.v0+json": {
       "columns": [
        {
         "name": "index",
         "rawType": "int64",
         "type": "integer"
        },
        {
         "name": "link",
         "rawType": "object",
         "type": "string"
        },
        {
         "name": "title",
         "rawType": "object",
         "type": "string"
        },
        {
         "name": "info",
         "rawType": "object",
         "type": "string"
        },
        {
         "name": "tags",
         "rawType": "object",
         "type": "unknown"
        },
        {
         "name": "description",
         "rawType": "object",
         "type": "string"
        },
        {
         "name": "likes",
         "rawType": "object",
         "type": "string"
        },
        {
         "name": "status",
         "rawType": "object",
         "type": "string"
        },
        {
         "name": "expert_role",
         "rawType": "object",
         "type": "string"
        },
        {
         "name": "expert_name",
         "rawType": "object",
         "type": "string"
        },
        {
         "name": "expert_answer",
         "rawType": "object",
         "type": "string"
        }
       ],
       "ref": "9f0310b3-2c71-41b2-96b0-010464d71b53",
       "rows": [
        [
         "0",
         "https://www.agnoshealth.com/forums/%E0%B8%9C%E0%B8%B7%E0%B9%88%E0%B8%99%E0%B8%95%E0%B8%B2%E0%B8%A1%E0%B8%A3%E0%B9%88%E0%B8%B2%E0%B8%87%E0%B8%81%E0%B8%B2%E0%B8%A2/5842",
         "ผื่นตามร่างกาย (Dermatitis unspecified)",
         "หญิง | อายุ 19 ปี",
         "['ผื่นตามร่างกาย']",
         "อยากรู้ว่าเป็นโรคอะไรและวิธีการรักษาค่ะ",
         "0",
         "",
         "",
         "",
         ""
        ],
        [
         "1",
         "https://www.agnoshealth.com/forums/%E0%B8%A3%E0%B8%B4%E0%B8%94%E0%B8%AA%E0%B8%B5%E0%B8%94%E0%B8%A7%E0%B8%87%E0%B8%97%E0%B8%A7%E0%B8%B2%E0%B8%A3/17",
         "ริดสีดวงทวาร (Hemorrhoids)",
         "ชาย | อายุ 21 ปี",
         "['ถ่ายเป็นเลือดสด', 'ถ่ายปนเลือด', 'ริดสีดวงทวาร']",
         "คือเป็นกังวลมากครับช่วงที่ผ่านเคยมีอาการถ่ายเป็นเลือดเเต่ไปตรวจวินิจฉัยต้นปีด้วยการตรวจอุจจาระ เเต่ไม่พบสิ่งผิดปกติใดๆ เเล้วช่วงนี้ก็กลับมาถ่ายมีเลือด ช่วงๆเเรกที่เป็นคือมีอาการเจ็บมากๆครับเป็นเเผลปริที่ขอบทวาร เเต่ครั้งนี้ไม่เจ็บครับเเต่มีเลือดติดมากับอุจจาระเเละกระดาษทิชชู่เเเต่ต้องเช็ดเข้าลึกๆหน่อยครับถึงจะติดมา จะถามคุณหมอว่า เสี่ยงเป็น มะเร็งลำไส้มั้ยครับ เเล้วควรไปตรวจอีกรอบเพื่อความเเน่ใจรึเปล่าครับ",
         "0",
         "แพทย์ตอบคำปรึกษาแล้ว",
         "คำตอบโดยแพทย์ผู้เชี่ยวชาญ",
         "นราวิชญ์ จันทวรรณ",
         "อายุ 21 ปี โอกาสเป็นมะเร็งน้อยอยู่แล้วครับ อาการที่เล่ามาเข้าได้กับริดสีดวงทวารมากกว่านะครับ สามารถไปตรวจยืนยันได้ที่รพ. ครับ เข้าพบคุณหมอศัลยกรรม ริดสีดวงทวารเป้นโรคที่รักษาไม่ยากครับ"
        ],
        [
         "2",
         "https://www.agnoshealth.com/forums/%E0%B8%AD%E0%B9%88%E0%B8%AD%E0%B8%99%E0%B9%80%E0%B8%9E%E0%B8%A5%E0%B8%B5%E0%B8%A2%E0%B8%97%E0%B8%B1%E0%B9%88%E0%B8%A7%E0%B9%84%E0%B8%9B/854",
         "อ่อนเพลียทั่วไป (Fatigue unspecified)",
         "ชาย | อายุ 31 ปี",
         "['อ่อนเพลียทั่วไป', 'ง่วงตลอดเวลา', 'หลับมากกว่าปกติ']",
         "มีอาการทำพฤติกรรมซ้ำๆจนติดเป็นนิสัย ตอนนี้ทำให้เสียบุคลิกเป็นอย่างมาก (ตอนนี้อาการคือมีการทำเสียงอึกๆในลำคอ เหมือนคนสะอึกอยู่ตลอดเวลา) เป็นมามากกว่าสามเดือนและหนักขึ้นเรื่อยๆครับ",
         "0",
         "",
         "",
         "",
         ""
        ],
        [
         "3",
         "https://www.agnoshealth.com/forums/%E0%B9%80%E0%B8%8A%E0%B8%B7%E0%B9%89%E0%B8%AD%E0%B8%A3%E0%B8%B2%E0%B9%83%E0%B8%99%E0%B8%8A%E0%B9%88%E0%B8%AD%E0%B8%87%E0%B8%84%E0%B8%A5%E0%B8%AD%E0%B8%94/6437",
         "เชื้อราในช่องคลอด (Candida vaginitis)",
         "หญิง | อายุ 17 ปี",
         "['ตกขาวผิดปกติ', 'เชื้อราในช่องคลอด']",
         "อยากรู้ว่าตรวจโรคนี้แบบไม่ตรวจภายในได้มั้ยคะ",
         "0",
         "",
         "",
         "",
         ""
        ],
        [
         "4",
         "https://www.agnoshealth.com/forums/%E0%B8%81%E0%B8%A3%E0%B8%B0%E0%B9%80%E0%B8%9E%E0%B8%B2%E0%B8%B0%E0%B8%9B%E0%B8%B1%E0%B8%AA%E0%B8%AA%E0%B8%B2%E0%B8%A7%E0%B8%B0%E0%B8%AD%E0%B8%B1%E0%B8%81%E0%B9%80%E0%B8%AA%E0%B8%9A/83",
         "กระเพาะปัสสาวะอักเสบ (Cystitis)",
         "หญิง | อายุ 20 ปี",
         "['ปัสสาวะออกเยอะ', 'ปัสสาวะบ่อย', 'กระเพาะปัสสาวะอักเสบ']",
         "คุณหมอคะ ช่วงนี้ทานยาดุเดือดมากค่ะ ทั้งยาต้านเศร้า(SERTRALINE) ยาPEP  ทานทุกวันค่ะ เดือนก่อนค่าไต egfr 109.54 ตอนนี้เหลือ107.90 ลดลงเยอะมากค่ะ ภายในเวลาแค่1เดือนกว่าๆ แล้วตอนคำนวณเขาเอาน้ำหนักมาคำนวณด้วยไหมคะ พอดีหนัก35 แต่ดันเขียนไปว่า37 กลัวผลมันไม่ถูกต้อง แล้วก็ทานยาเยอะด้วยค่ะ กลัวเป็นไต",
         "0",
         "แพทย์ตอบคำปรึกษาแล้ว",
         "คำตอบโดยแพทย์ผู้เชี่ยวชาญ",
         "นราวิชญ์ จันทวรรณ",
         "ค่าGFR ที่เริ่มจะมีปัญหาคือ น้อยกว่า 45 ครับ"
        ]
       ],
       "shape": {
        "columns": 10,
        "rows": 5
       }
      },
      "text/html": [
       "<div>\n",
       "<style scoped>\n",
       "    .dataframe tbody tr th:only-of-type {\n",
       "        vertical-align: middle;\n",
       "    }\n",
       "\n",
       "    .dataframe tbody tr th {\n",
       "        vertical-align: top;\n",
       "    }\n",
       "\n",
       "    .dataframe thead th {\n",
       "        text-align: right;\n",
       "    }\n",
       "</style>\n",
       "<table border=\"1\" class=\"dataframe\">\n",
       "  <thead>\n",
       "    <tr style=\"text-align: right;\">\n",
       "      <th></th>\n",
       "      <th>link</th>\n",
       "      <th>title</th>\n",
       "      <th>info</th>\n",
       "      <th>tags</th>\n",
       "      <th>description</th>\n",
       "      <th>likes</th>\n",
       "      <th>status</th>\n",
       "      <th>expert_role</th>\n",
       "      <th>expert_name</th>\n",
       "      <th>expert_answer</th>\n",
       "    </tr>\n",
       "  </thead>\n",
       "  <tbody>\n",
       "    <tr>\n",
       "      <th>0</th>\n",
       "      <td>https://www.agnoshealth.com/forums/%E0%B8%9C%E...</td>\n",
       "      <td>ผื่นตามร่างกาย (Dermatitis unspecified)</td>\n",
       "      <td>หญิง | อายุ 19 ปี</td>\n",
       "      <td>[ผื่นตามร่างกาย]</td>\n",
       "      <td>อยากรู้ว่าเป็นโรคอะไรและวิธีการรักษาค่ะ</td>\n",
       "      <td>0</td>\n",
       "      <td></td>\n",
       "      <td></td>\n",
       "      <td></td>\n",
       "      <td></td>\n",
       "    </tr>\n",
       "    <tr>\n",
       "      <th>1</th>\n",
       "      <td>https://www.agnoshealth.com/forums/%E0%B8%A3%E...</td>\n",
       "      <td>ริดสีดวงทวาร (Hemorrhoids)</td>\n",
       "      <td>ชาย | อายุ 21 ปี</td>\n",
       "      <td>[ถ่ายเป็นเลือดสด, ถ่ายปนเลือด, ริดสีดวงทวาร]</td>\n",
       "      <td>คือเป็นกังวลมากครับช่วงที่ผ่านเคยมีอาการถ่ายเป...</td>\n",
       "      <td>0</td>\n",
       "      <td>แพทย์ตอบคำปรึกษาแล้ว</td>\n",
       "      <td>คำตอบโดยแพทย์ผู้เชี่ยวชาญ</td>\n",
       "      <td>นราวิชญ์ จันทวรรณ</td>\n",
       "      <td>อายุ 21 ปี โอกาสเป็นมะเร็งน้อยอยู่แล้วครับ อาก...</td>\n",
       "    </tr>\n",
       "    <tr>\n",
       "      <th>2</th>\n",
       "      <td>https://www.agnoshealth.com/forums/%E0%B8%AD%E...</td>\n",
       "      <td>อ่อนเพลียทั่วไป (Fatigue unspecified)</td>\n",
       "      <td>ชาย | อายุ 31 ปี</td>\n",
       "      <td>[อ่อนเพลียทั่วไป, ง่วงตลอดเวลา, หลับมากกว่าปกติ]</td>\n",
       "      <td>มีอาการทำพฤติกรรมซ้ำๆจนติดเป็นนิสัย ตอนนี้ทำให...</td>\n",
       "      <td>0</td>\n",
       "      <td></td>\n",
       "      <td></td>\n",
       "      <td></td>\n",
       "      <td></td>\n",
       "    </tr>\n",
       "    <tr>\n",
       "      <th>3</th>\n",
       "      <td>https://www.agnoshealth.com/forums/%E0%B9%80%E...</td>\n",
       "      <td>เชื้อราในช่องคลอด (Candida vaginitis)</td>\n",
       "      <td>หญิง | อายุ 17 ปี</td>\n",
       "      <td>[ตกขาวผิดปกติ, เชื้อราในช่องคลอด]</td>\n",
       "      <td>อยากรู้ว่าตรวจโรคนี้แบบไม่ตรวจภายในได้มั้ยคะ</td>\n",
       "      <td>0</td>\n",
       "      <td></td>\n",
       "      <td></td>\n",
       "      <td></td>\n",
       "      <td></td>\n",
       "    </tr>\n",
       "    <tr>\n",
       "      <th>4</th>\n",
       "      <td>https://www.agnoshealth.com/forums/%E0%B8%81%E...</td>\n",
       "      <td>กระเพาะปัสสาวะอักเสบ (Cystitis)</td>\n",
       "      <td>หญิง | อายุ 20 ปี</td>\n",
       "      <td>[ปัสสาวะออกเยอะ, ปัสสาวะบ่อย, กระเพาะปัสสาวะอั...</td>\n",
       "      <td>คุณหมอคะ ช่วงนี้ทานยาดุเดือดมากค่ะ ทั้งยาต้านเ...</td>\n",
       "      <td>0</td>\n",
       "      <td>แพทย์ตอบคำปรึกษาแล้ว</td>\n",
       "      <td>คำตอบโดยแพทย์ผู้เชี่ยวชาญ</td>\n",
       "      <td>นราวิชญ์ จันทวรรณ</td>\n",
       "      <td>ค่าGFR ที่เริ่มจะมีปัญหาคือ น้อยกว่า 45 ครับ</td>\n",
       "    </tr>\n",
       "  </tbody>\n",
       "</table>\n",
       "</div>"
      ],
      "text/plain": [
       "                                                link  \\\n",
       "0  https://www.agnoshealth.com/forums/%E0%B8%9C%E...   \n",
       "1  https://www.agnoshealth.com/forums/%E0%B8%A3%E...   \n",
       "2  https://www.agnoshealth.com/forums/%E0%B8%AD%E...   \n",
       "3  https://www.agnoshealth.com/forums/%E0%B9%80%E...   \n",
       "4  https://www.agnoshealth.com/forums/%E0%B8%81%E...   \n",
       "\n",
       "                                     title               info  \\\n",
       "0  ผื่นตามร่างกาย (Dermatitis unspecified)  หญิง | อายุ 19 ปี   \n",
       "1               ริดสีดวงทวาร (Hemorrhoids)   ชาย | อายุ 21 ปี   \n",
       "2    อ่อนเพลียทั่วไป (Fatigue unspecified)   ชาย | อายุ 31 ปี   \n",
       "3    เชื้อราในช่องคลอด (Candida vaginitis)  หญิง | อายุ 17 ปี   \n",
       "4          กระเพาะปัสสาวะอักเสบ (Cystitis)  หญิง | อายุ 20 ปี   \n",
       "\n",
       "                                                tags  \\\n",
       "0                                   [ผื่นตามร่างกาย]   \n",
       "1       [ถ่ายเป็นเลือดสด, ถ่ายปนเลือด, ริดสีดวงทวาร]   \n",
       "2   [อ่อนเพลียทั่วไป, ง่วงตลอดเวลา, หลับมากกว่าปกติ]   \n",
       "3                  [ตกขาวผิดปกติ, เชื้อราในช่องคลอด]   \n",
       "4  [ปัสสาวะออกเยอะ, ปัสสาวะบ่อย, กระเพาะปัสสาวะอั...   \n",
       "\n",
       "                                         description likes  \\\n",
       "0            อยากรู้ว่าเป็นโรคอะไรและวิธีการรักษาค่ะ     0   \n",
       "1  คือเป็นกังวลมากครับช่วงที่ผ่านเคยมีอาการถ่ายเป...     0   \n",
       "2  มีอาการทำพฤติกรรมซ้ำๆจนติดเป็นนิสัย ตอนนี้ทำให...     0   \n",
       "3       อยากรู้ว่าตรวจโรคนี้แบบไม่ตรวจภายในได้มั้ยคะ     0   \n",
       "4  คุณหมอคะ ช่วงนี้ทานยาดุเดือดมากค่ะ ทั้งยาต้านเ...     0   \n",
       "\n",
       "                 status                expert_role        expert_name  \\\n",
       "0                                                                       \n",
       "1  แพทย์ตอบคำปรึกษาแล้ว  คำตอบโดยแพทย์ผู้เชี่ยวชาญ  นราวิชญ์ จันทวรรณ   \n",
       "2                                                                       \n",
       "3                                                                       \n",
       "4  แพทย์ตอบคำปรึกษาแล้ว  คำตอบโดยแพทย์ผู้เชี่ยวชาญ  นราวิชญ์ จันทวรรณ   \n",
       "\n",
       "                                       expert_answer  \n",
       "0                                                     \n",
       "1  อายุ 21 ปี โอกาสเป็นมะเร็งน้อยอยู่แล้วครับ อาก...  \n",
       "2                                                     \n",
       "3                                                     \n",
       "4       ค่าGFR ที่เริ่มจะมีปัญหาคือ น้อยกว่า 45 ครับ  "
      ]
     },
     "execution_count": 17,
     "metadata": {},
     "output_type": "execute_result"
    }
   ],
   "source": [
    "df.head()"
   ]
  }
 ],
 "metadata": {
  "kernelspec": {
   "display_name": "datasci-env",
   "language": "python",
   "name": "python3"
  },
  "language_info": {
   "codemirror_mode": {
    "name": "ipython",
    "version": 3
   },
   "file_extension": ".py",
   "mimetype": "text/x-python",
   "name": "python",
   "nbconvert_exporter": "python",
   "pygments_lexer": "ipython3",
   "version": "3.9.18"
  }
 },
 "nbformat": 4,
 "nbformat_minor": 2
}
